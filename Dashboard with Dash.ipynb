{
 "cells": [
  {
   "cell_type": "code",
   "execution_count": 3,
   "metadata": {},
   "outputs": [
    {
     "name": "stdout",
     "output_type": "stream",
     "text": [
      "Dash is running on http://127.0.0.1:8050/\n",
      "\n",
      " * Serving Flask app '__main__'\n",
      " * Debug mode: off\n"
     ]
    },
    {
     "name": "stderr",
     "output_type": "stream",
     "text": [
      "WARNING: This is a development server. Do not use it in a production deployment. Use a production WSGI server instead.\n",
      " * Running on http://127.0.0.1:8050\n",
      "Press CTRL+C to quit\n"
     ]
    },
    {
     "name": "stderr",
     "output_type": "stream",
     "text": [
      "127.0.0.1 - - [31/Jul/2023 11:40:06] \"GET / HTTP/1.1\" 200 -\n",
      "127.0.0.1 - - [31/Jul/2023 11:40:06] \"GET /_dash-layout HTTP/1.1\" 200 -\n",
      "127.0.0.1 - - [31/Jul/2023 11:40:06] \"GET /_dash-dependencies HTTP/1.1\" 200 -\n",
      "127.0.0.1 - - [31/Jul/2023 11:40:06] \"GET /_dash-component-suites/dash/dcc/async-dropdown.js HTTP/1.1\" 304 -\n",
      "127.0.0.1 - - [31/Jul/2023 11:40:06] \"GET /_dash-component-suites/dash/dcc/async-graph.js HTTP/1.1\" 304 -\n",
      "127.0.0.1 - - [31/Jul/2023 11:40:06] \"GET /_dash-component-suites/dash/dcc/async-slider.js HTTP/1.1\" 304 -\n",
      "127.0.0.1 - - [31/Jul/2023 11:40:06] \"GET /_dash-component-suites/dash/dcc/async-plotlyjs.js HTTP/1.1\" 304 -\n",
      "127.0.0.1 - - [31/Jul/2023 11:40:06] \"POST /_dash-update-component HTTP/1.1\" 200 -\n",
      "127.0.0.1 - - [31/Jul/2023 11:40:06] \"POST /_dash-update-component HTTP/1.1\" 200 -\n",
      "127.0.0.1 - - [31/Jul/2023 11:40:09] \"POST /_dash-update-component HTTP/1.1\" 200 -\n",
      "127.0.0.1 - - [31/Jul/2023 11:40:09] \"POST /_dash-update-component HTTP/1.1\" 200 -\n"
     ]
    },
    {
     "name": "stdout",
     "output_type": "stream",
     "text": [
      "    class  Payload Mass (kg)\n",
      "49      1            2205.00\n",
      "50      1            3696.65\n",
      "51      0            4230.00\n",
      "52      0            6092.00\n",
      "53      0            2647.00\n",
      "54      1             362.00\n",
      "55      0            5384.00\n"
     ]
    },
    {
     "name": "stderr",
     "output_type": "stream",
     "text": [
      "127.0.0.1 - - [31/Jul/2023 11:40:11] \"POST /_dash-update-component HTTP/1.1\" 200 -\n"
     ]
    },
    {
     "name": "stdout",
     "output_type": "stream",
     "text": [
      "    class  Payload Mass (kg)\n",
      "49      1            2205.00\n",
      "50      1            3696.65\n",
      "51      0            4230.00\n",
      "52      0            6092.00\n",
      "53      0            2647.00\n",
      "55      0            5384.00\n"
     ]
    },
    {
     "name": "stderr",
     "output_type": "stream",
     "text": [
      "127.0.0.1 - - [31/Jul/2023 11:40:13] \"POST /_dash-update-component HTTP/1.1\" 200 -\n"
     ]
    },
    {
     "name": "stdout",
     "output_type": "stream",
     "text": [
      "    class  Payload Mass (kg)\n",
      "49      1            2205.00\n",
      "50      1            3696.65\n",
      "51      0            4230.00\n",
      "52      0            6092.00\n",
      "53      0            2647.00\n",
      "54      1             362.00\n",
      "55      0            5384.00\n"
     ]
    },
    {
     "name": "stderr",
     "output_type": "stream",
     "text": [
      "127.0.0.1 - - [31/Jul/2023 11:40:17] \"POST /_dash-update-component HTTP/1.1\" 200 -\n",
      "127.0.0.1 - - [31/Jul/2023 11:40:17] \"POST /_dash-update-component HTTP/1.1\" 200 -\n"
     ]
    },
    {
     "name": "stdout",
     "output_type": "stream",
     "text": [
      "    class  Payload Mass (kg)\n",
      "36      1            2490.00\n",
      "37      0            5600.00\n",
      "38      1            5300.00\n",
      "39      1            3696.65\n",
      "40      0            6070.00\n",
      "41      1            2708.00\n",
      "42      1            3669.00\n",
      "43      0            6761.00\n",
      "44      1            3310.00\n",
      "45      1            4990.00\n",
      "46      1            5200.00\n",
      "47      1            3500.00\n",
      "48      1            3600.00\n"
     ]
    },
    {
     "name": "stderr",
     "output_type": "stream",
     "text": [
      "127.0.0.1 - - [31/Jul/2023 11:40:20] \"POST /_dash-update-component HTTP/1.1\" 200 -\n",
      "127.0.0.1 - - [31/Jul/2023 11:40:21] \"POST /_dash-update-component HTTP/1.1\" 200 -\n",
      "127.0.0.1 - - [31/Jul/2023 11:47:45] \"POST /_dash-update-component HTTP/1.1\" 200 -\n",
      "127.0.0.1 - - [31/Jul/2023 11:47:45] \"POST /_dash-update-component HTTP/1.1\" 200 -\n"
     ]
    },
    {
     "name": "stdout",
     "output_type": "stream",
     "text": [
      "    class  Payload Mass (kg)\n",
      "49      1            2205.00\n",
      "50      1            3696.65\n",
      "51      0            4230.00\n",
      "52      0            6092.00\n",
      "53      0            2647.00\n",
      "54      1             362.00\n",
      "55      0            5384.00\n"
     ]
    },
    {
     "name": "stderr",
     "output_type": "stream",
     "text": [
      "127.0.0.1 - - [31/Jul/2023 11:47:48] \"POST /_dash-update-component HTTP/1.1\" 200 -\n",
      "127.0.0.1 - - [31/Jul/2023 11:47:48] \"POST /_dash-update-component HTTP/1.1\" 200 -\n"
     ]
    },
    {
     "name": "stdout",
     "output_type": "stream",
     "text": [
      "    class  Payload Mass (kg)\n",
      "36      1            2490.00\n",
      "37      0            5600.00\n",
      "38      1            5300.00\n",
      "39      1            3696.65\n",
      "40      0            6070.00\n",
      "41      1            2708.00\n",
      "42      1            3669.00\n",
      "43      0            6761.00\n",
      "44      1            3310.00\n",
      "45      1            4990.00\n",
      "46      1            5200.00\n",
      "47      1            3500.00\n",
      "48      1            3600.00\n"
     ]
    },
    {
     "name": "stderr",
     "output_type": "stream",
     "text": [
      "127.0.0.1 - - [31/Jul/2023 11:47:50] \"POST /_dash-update-component HTTP/1.1\" 200 -\n",
      "127.0.0.1 - - [31/Jul/2023 11:47:50] \"POST /_dash-update-component HTTP/1.1\" 200 -\n"
     ]
    },
    {
     "name": "stdout",
     "output_type": "stream",
     "text": [
      "    class  Payload Mass (kg)\n",
      "26      0              500.0\n",
      "27      0              553.0\n",
      "28      1             9600.0\n",
      "29      1             9600.0\n",
      "30      1              475.0\n",
      "31      1             9600.0\n",
      "32      0             9600.0\n",
      "33      0             2150.0\n",
      "34      0             9600.0\n",
      "35      0             6460.0\n"
     ]
    },
    {
     "name": "stderr",
     "output_type": "stream",
     "text": [
      "127.0.0.1 - - [31/Jul/2023 11:47:51] \"POST /_dash-update-component HTTP/1.1\" 200 -\n",
      "127.0.0.1 - - [31/Jul/2023 11:47:52] \"POST /_dash-update-component HTTP/1.1\" 200 -\n"
     ]
    },
    {
     "name": "stdout",
     "output_type": "stream",
     "text": [
      "    class  Payload Mass (kg)\n",
      "0       0                0.0\n",
      "1       0                0.0\n",
      "2       0              525.0\n",
      "3       0              500.0\n",
      "4       0              677.0\n",
      "5       0             3170.0\n",
      "6       0             3325.0\n",
      "7       0             2296.0\n",
      "8       0             1316.0\n",
      "9       0             4535.0\n",
      "10      0             4428.0\n",
      "11      0             2216.0\n",
      "12      0             2395.0\n",
      "13      0              570.0\n",
      "14      0             4159.0\n",
      "15      0             1898.0\n",
      "16      0             4707.0\n",
      "17      1             1952.0\n",
      "18      1             2034.0\n",
      "19      0             5271.0\n",
      "20      1             3136.0\n",
      "21      1             4696.0\n",
      "22      1             3100.0\n",
      "23      0             3600.0\n",
      "24      1             2257.0\n",
      "25      1             4600.0\n"
     ]
    },
    {
     "name": "stderr",
     "output_type": "stream",
     "text": [
      "127.0.0.1 - - [31/Jul/2023 11:48:00] \"POST /_dash-update-component HTTP/1.1\" 200 -\n",
      "127.0.0.1 - - [31/Jul/2023 11:48:00] \"POST /_dash-update-component HTTP/1.1\" 200 -\n"
     ]
    },
    {
     "name": "stdout",
     "output_type": "stream",
     "text": [
      "    class  Payload Mass (kg)\n",
      "26      0              500.0\n",
      "27      0              553.0\n",
      "28      1             9600.0\n",
      "29      1             9600.0\n",
      "30      1              475.0\n",
      "31      1             9600.0\n",
      "32      0             9600.0\n",
      "33      0             2150.0\n",
      "34      0             9600.0\n",
      "35      0             6460.0\n"
     ]
    },
    {
     "name": "stderr",
     "output_type": "stream",
     "text": [
      "127.0.0.1 - - [31/Jul/2023 11:48:02] \"POST /_dash-update-component HTTP/1.1\" 200 -\n",
      "127.0.0.1 - - [31/Jul/2023 11:48:02] \"POST /_dash-update-component HTTP/1.1\" 200 -\n"
     ]
    },
    {
     "name": "stdout",
     "output_type": "stream",
     "text": [
      "    class  Payload Mass (kg)\n",
      "36      1            2490.00\n",
      "37      0            5600.00\n",
      "38      1            5300.00\n",
      "39      1            3696.65\n",
      "40      0            6070.00\n",
      "41      1            2708.00\n",
      "42      1            3669.00\n",
      "43      0            6761.00\n",
      "44      1            3310.00\n",
      "45      1            4990.00\n",
      "46      1            5200.00\n",
      "47      1            3500.00\n",
      "48      1            3600.00\n"
     ]
    },
    {
     "name": "stderr",
     "output_type": "stream",
     "text": [
      "127.0.0.1 - - [31/Jul/2023 11:48:05] \"POST /_dash-update-component HTTP/1.1\" 200 -\n",
      "127.0.0.1 - - [31/Jul/2023 11:48:05] \"POST /_dash-update-component HTTP/1.1\" 200 -\n"
     ]
    },
    {
     "name": "stdout",
     "output_type": "stream",
     "text": [
      "    class  Payload Mass (kg)\n",
      "49      1            2205.00\n",
      "50      1            3696.65\n",
      "51      0            4230.00\n",
      "52      0            6092.00\n",
      "53      0            2647.00\n",
      "54      1             362.00\n",
      "55      0            5384.00\n"
     ]
    },
    {
     "name": "stderr",
     "output_type": "stream",
     "text": [
      "127.0.0.1 - - [31/Jul/2023 11:48:06] \"POST /_dash-update-component HTTP/1.1\" 200 -\n",
      "127.0.0.1 - - [31/Jul/2023 11:48:06] \"POST /_dash-update-component HTTP/1.1\" 200 -\n"
     ]
    },
    {
     "name": "stdout",
     "output_type": "stream",
     "text": [
      "    class  Payload Mass (kg)\n",
      "36      1            2490.00\n",
      "37      0            5600.00\n",
      "38      1            5300.00\n",
      "39      1            3696.65\n",
      "40      0            6070.00\n",
      "41      1            2708.00\n",
      "42      1            3669.00\n",
      "43      0            6761.00\n",
      "44      1            3310.00\n",
      "45      1            4990.00\n",
      "46      1            5200.00\n",
      "47      1            3500.00\n",
      "48      1            3600.00\n"
     ]
    },
    {
     "name": "stderr",
     "output_type": "stream",
     "text": [
      "127.0.0.1 - - [31/Jul/2023 12:03:43] \"POST /_dash-update-component HTTP/1.1\" 200 -\n",
      "127.0.0.1 - - [31/Jul/2023 12:03:43] \"POST /_dash-update-component HTTP/1.1\" 200 -\n",
      "127.0.0.1 - - [31/Jul/2023 12:05:41] \"POST /_dash-update-component HTTP/1.1\" 200 -\n",
      "127.0.0.1 - - [31/Jul/2023 12:05:45] \"POST /_dash-update-component HTTP/1.1\" 200 -\n",
      "127.0.0.1 - - [31/Jul/2023 12:05:49] \"POST /_dash-update-component HTTP/1.1\" 200 -\n",
      "127.0.0.1 - - [31/Jul/2023 12:05:51] \"POST /_dash-update-component HTTP/1.1\" 200 -\n",
      "127.0.0.1 - - [31/Jul/2023 12:06:40] \"GET / HTTP/1.1\" 200 -\n",
      "127.0.0.1 - - [31/Jul/2023 12:06:40] \"GET /_dash-layout HTTP/1.1\" 200 -\n",
      "127.0.0.1 - - [31/Jul/2023 12:06:40] \"GET /_dash-dependencies HTTP/1.1\" 200 -\n",
      "127.0.0.1 - - [31/Jul/2023 12:06:40] \"GET /_favicon.ico?v=2.9.3 HTTP/1.1\" 200 -\n",
      "127.0.0.1 - - [31/Jul/2023 12:06:40] \"GET /_dash-component-suites/dash/dcc/async-dropdown.js HTTP/1.1\" 304 -\n",
      "127.0.0.1 - - [31/Jul/2023 12:06:40] \"GET /_dash-component-suites/dash/dcc/async-graph.js HTTP/1.1\" 304 -\n",
      "127.0.0.1 - - [31/Jul/2023 12:06:40] \"GET /_dash-component-suites/dash/dcc/async-plotlyjs.js HTTP/1.1\" 304 -\n",
      "127.0.0.1 - - [31/Jul/2023 12:06:40] \"POST /_dash-update-component HTTP/1.1\" 200 -\n",
      "127.0.0.1 - - [31/Jul/2023 12:06:40] \"GET /_dash-component-suites/dash/dcc/async-slider.js HTTP/1.1\" 304 -\n",
      "127.0.0.1 - - [31/Jul/2023 12:06:40] \"POST /_dash-update-component HTTP/1.1\" 200 -\n",
      "127.0.0.1 - - [31/Jul/2023 12:06:46] \"POST /_dash-update-component HTTP/1.1\" 200 -\n",
      "127.0.0.1 - - [31/Jul/2023 12:13:12] \"POST /_dash-update-component HTTP/1.1\" 200 -\n",
      "127.0.0.1 - - [31/Jul/2023 12:13:13] \"POST /_dash-update-component HTTP/1.1\" 200 -\n"
     ]
    }
   ],
   "source": [
    "# Import required libraries\n",
    "import pandas as pd\n",
    "import dash\n",
    "import dash_html_components as html\n",
    "import dash_core_components as dcc\n",
    "from dash.dependencies import Input, Output\n",
    "import plotly.express as px\n",
    "\n",
    "# Read the airline data into pandas dataframe\n",
    "spacex_df = pd.read_csv(r\"C:\\Users\\SHoffman\\OneDrive - ARCADIS\\Desktop\\Learning\\Python\\Coursera CheatSheets\\Capstone\\spacex_launch_dash.csv\")\n",
    "max_payload = spacex_df['Payload Mass (kg)'].max()\n",
    "min_payload = spacex_df['Payload Mass (kg)'].min()\n",
    "\n",
    "# Get the drop down options for Task 1\n",
    "locations = list(set(spacex_df['Launch Site'].values))\n",
    "dropdownoptions = [{'label': 'ALL', 'value': 'ALL'}]\n",
    "for location in locations:\n",
    "    dropdownoptions.append( {'label': location, 'value': location} )\n",
    "    \n",
    "# Create a dash application\n",
    "app = dash.Dash(__name__)\n",
    "\n",
    "# Create an app layout\n",
    "app.layout = html.Div(children=[html.H1('SpaceX Launch Records Dashboard',\n",
    "                                        style={'textAlign': 'center', 'color': '#503D36',\n",
    "                                               'font-size': 40}),\n",
    "                                # TASK 1: Add a dropdown list to enable Launch Site selection\n",
    "                                # The default select value is for ALL sites\n",
    "                                dcc.Dropdown(id='site-dropdown', options = dropdownoptions, value='ALL', placeholder='Select a launchsite to investigate', searchable=True),\n",
    "                                html.Br(),\n",
    "\n",
    "                                # TASK 2: Add a pie chart to show the total successful launches count for all sites\n",
    "                                # If a specific launch site was selected, show the Success vs. Failed counts for the site\n",
    "                                html.Div(dcc.Graph(id='success-pie-chart')),\n",
    "                                html.Br(),\n",
    "\n",
    "                                html.P(\"Payload range (Kg):\"),\n",
    "                                # TASK 3: Add a slider to select payload range\n",
    "                                dcc.RangeSlider(id='payload-slider', max=max_payload, min=min_payload, value=[min_payload, max_payload], step=1000),\n",
    "\n",
    "                                # TASK 4: Add a scatter chart to show the correlation between payload and launch success\n",
    "                                html.Div(dcc.Graph(id='success-payload-scatter-chart')),\n",
    "                                ])\n",
    "\n",
    "# TASK 2:\n",
    "# Add a callback function for `site-dropdown` as input, `success-pie-chart` as output\n",
    "@app.callback(\n",
    "    Output(component_id='success-pie-chart', component_property='figure'),\n",
    "    Input(component_id='site-dropdown', component_property='value'),\n",
    ")\n",
    "\n",
    "def get_pie_chart( entered_site ):\n",
    "    if entered_site == 'ALL':\n",
    "        filtered_df = spacex_df[['Launch Site', 'class']].groupby('Launch Site').sum()\n",
    "        filtered_df.reset_index(inplace=True)\n",
    "        fig=px.pie(filtered_df, values='class', names='Launch Site')\n",
    "    else:\n",
    "        filtered_df = spacex_df.loc[ spacex_df['Launch Site'] == entered_site ]\n",
    "        filtered_df = pd.DataFrame(filtered_df[['class']].value_counts())\n",
    "        filtered_df.reset_index(inplace=True)\n",
    "        filtered_df.columns = ['class', 'count']\n",
    "        fig=px.pie(filtered_df, values='count', names='class')\n",
    "    return fig\n",
    "        \n",
    "        \n",
    "# TASK 4:\n",
    "# Add a callback function for `site-dropdown` and `payload-slider` as inputs, `success-payload-scatter-chart` as output\n",
    "@app.callback(\n",
    "    Output(component_id='success-payload-scatter-chart', component_property='figure'),\n",
    "    [ Input(component_id='site-dropdown', component_property='value'), \n",
    "        Input(component_id=\"payload-slider\", component_property=\"value\") ]\n",
    ")\n",
    "\n",
    "# def get_scatter_plot( payloadval ):\n",
    "def create_scatter(site, payload):\n",
    "    if site == 'ALL':\n",
    "        filter_df = spacex_df[(spacex_df['Payload Mass (kg)']>=payload[0]) & (spacex_df['Payload Mass (kg)']<=payload[1])]\n",
    "        fig=px.scatter(filter_df,x='Payload Mass (kg)', y='class',color=\"Booster Version Category\")\n",
    "\n",
    "    else:\n",
    "        filter_df = spacex_df[spacex_df['Launch Site']==site]\n",
    "        filter_df = filter_df[(filter_df['Payload Mass (kg)']>=int(payload[0])) & (filter_df['Payload Mass (kg)'] <=int(payload[1]))]\n",
    "        print(filter_df[['class','Payload Mass (kg)']])\n",
    "        fig=px.scatter(filter_df,x='Payload Mass (kg)', y='class',color=\"Booster Version Category\")\n",
    "    return fig\n",
    "\n",
    "# Run the app\n",
    "if __name__ == '__main__':\n",
    "    app.run_server()\n"
   ]
  },
  {
   "cell_type": "code",
   "execution_count": null,
   "metadata": {},
   "outputs": [],
   "source": []
  }
 ],
 "metadata": {
  "kernelspec": {
   "display_name": "Python 3",
   "language": "python",
   "name": "python3"
  },
  "language_info": {
   "codemirror_mode": {
    "name": "ipython",
    "version": 3
   },
   "file_extension": ".py",
   "mimetype": "text/x-python",
   "name": "python",
   "nbconvert_exporter": "python",
   "pygments_lexer": "ipython3",
   "version": "3.9.13"
  },
  "orig_nbformat": 4
 },
 "nbformat": 4,
 "nbformat_minor": 2
}
